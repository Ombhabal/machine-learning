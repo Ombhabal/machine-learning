{
 "cells": [
  {
   "cell_type": "markdown",
   "id": "8fe14231-ee8e-4b4f-98ee-40f07b5700ef",
   "metadata": {
    "id": "8fe14231-ee8e-4b4f-98ee-40f07b5700ef"
   },
   "source": [
    "# Phase I: Base Model"
   ]
  },
  {
   "cell_type": "markdown",
   "id": "5bf50433-b22d-40c9-8664-910a12358110",
   "metadata": {
    "id": "5bf50433-b22d-40c9-8664-910a12358110"
   },
   "source": [
    "## Import Models"
   ]
  },
  {
   "cell_type": "code",
   "execution_count": 1,
   "id": "bb1c77d8-799d-4aba-9867-4c24351f58ac",
   "metadata": {
    "id": "bb1c77d8-799d-4aba-9867-4c24351f58ac"
   },
   "outputs": [],
   "source": [
    "import pandas as pd\n",
    "import numpy as np\n",
    "\n",
    "# Models\n",
    "from sklearn.model_selection import train_test_split, cross_val_score, StratifiedKFold\n",
    "from sklearn.preprocessing import LabelEncoder\n",
    "from sklearn.ensemble import RandomForestClassifier, VotingClassifier, StackingClassifier\n",
    "from sklearn.svm import SVC\n",
    "from sklearn.linear_model import LogisticRegression\n",
    "from xgboost import XGBClassifier\n",
    "from sklearn.metrics import classification_report, accuracy_score\n",
    "import warnings\n",
    "warnings.filterwarnings(\"ignore\", category=UserWarning)\n",
    "warnings.filterwarnings(\"ignore\", category=RuntimeWarning)"
   ]
  },
  {
   "cell_type": "markdown",
   "id": "9b42d3de-cc28-45e5-a28f-9de0ab6a497b",
   "metadata": {
    "id": "9b42d3de-cc28-45e5-a28f-9de0ab6a497b"
   },
   "source": [
    "## Load and preprocess data"
   ]
  },
  {
   "cell_type": "code",
   "execution_count": 2,
   "id": "797ffa3d-7dfd-43b6-87a7-c12dabf89d23",
   "metadata": {
    "id": "797ffa3d-7dfd-43b6-87a7-c12dabf89d23"
   },
   "outputs": [],
   "source": [
    "df = pd.read_csv(\"mushrooms.csv\")"
   ]
  },
  {
   "cell_type": "code",
   "execution_count": 3,
   "id": "f2e8bec0-550e-4f80-a1b6-336e38eaf68a",
   "metadata": {
    "colab": {
     "base_uri": "https://localhost:8080/"
    },
    "executionInfo": {
     "elapsed": 12,
     "status": "ok",
     "timestamp": 1755941794784,
     "user": {
      "displayName": "BHABAL OM PRADEEP TU3F2223145",
      "userId": "03180837749453099155"
     },
     "user_tz": -330
    },
    "id": "f2e8bec0-550e-4f80-a1b6-336e38eaf68a",
    "outputId": "88643b4a-40fe-4a4f-adcc-a95731cafa95"
   },
   "outputs": [
    {
     "name": "stdout",
     "output_type": "stream",
     "text": [
      "<class 'pandas.core.frame.DataFrame'>\n",
      "RangeIndex: 8124 entries, 0 to 8123\n",
      "Data columns (total 23 columns):\n",
      " #   Column                    Non-Null Count  Dtype \n",
      "---  ------                    --------------  ----- \n",
      " 0   class                     8124 non-null   object\n",
      " 1   cap-shape                 8124 non-null   object\n",
      " 2   cap-surface               8124 non-null   object\n",
      " 3   cap-color                 8124 non-null   object\n",
      " 4   bruises                   8124 non-null   object\n",
      " 5   odor                      8124 non-null   object\n",
      " 6   gill-attachment           8124 non-null   object\n",
      " 7   gill-spacing              8124 non-null   object\n",
      " 8   gill-size                 8124 non-null   object\n",
      " 9   gill-color                8124 non-null   object\n",
      " 10  stalk-shape               8124 non-null   object\n",
      " 11  stalk-root                8124 non-null   object\n",
      " 12  stalk-surface-above-ring  8124 non-null   object\n",
      " 13  stalk-surface-below-ring  8124 non-null   object\n",
      " 14  stalk-color-above-ring    8124 non-null   object\n",
      " 15  stalk-color-below-ring    8124 non-null   object\n",
      " 16  veil-type                 8124 non-null   object\n",
      " 17  veil-color                8124 non-null   object\n",
      " 18  ring-number               8124 non-null   object\n",
      " 19  ring-type                 8124 non-null   object\n",
      " 20  spore-print-color         8124 non-null   object\n",
      " 21  population                8124 non-null   object\n",
      " 22  habitat                   8124 non-null   object\n",
      "dtypes: object(23)\n",
      "memory usage: 1.4+ MB\n"
     ]
    }
   ],
   "source": [
    "df.info()"
   ]
  },
  {
   "cell_type": "code",
   "execution_count": 4,
   "id": "b03f0982-9a94-4dd3-869c-5de6e526f98a",
   "metadata": {
    "colab": {
     "base_uri": "https://localhost:8080/",
     "height": 276
    },
    "executionInfo": {
     "elapsed": 70,
     "status": "ok",
     "timestamp": 1755941794855,
     "user": {
      "displayName": "BHABAL OM PRADEEP TU3F2223145",
      "userId": "03180837749453099155"
     },
     "user_tz": -330
    },
    "id": "b03f0982-9a94-4dd3-869c-5de6e526f98a",
    "outputId": "8e7706bd-809d-4618-effd-f2bdd90ec139"
   },
   "outputs": [
    {
     "data": {
      "text/html": [
       "<div>\n",
       "<style scoped>\n",
       "    .dataframe tbody tr th:only-of-type {\n",
       "        vertical-align: middle;\n",
       "    }\n",
       "\n",
       "    .dataframe tbody tr th {\n",
       "        vertical-align: top;\n",
       "    }\n",
       "\n",
       "    .dataframe thead th {\n",
       "        text-align: right;\n",
       "    }\n",
       "</style>\n",
       "<table border=\"1\" class=\"dataframe\">\n",
       "  <thead>\n",
       "    <tr style=\"text-align: right;\">\n",
       "      <th></th>\n",
       "      <th>class</th>\n",
       "      <th>cap-shape</th>\n",
       "      <th>cap-surface</th>\n",
       "      <th>cap-color</th>\n",
       "      <th>bruises</th>\n",
       "      <th>odor</th>\n",
       "      <th>gill-attachment</th>\n",
       "      <th>gill-spacing</th>\n",
       "      <th>gill-size</th>\n",
       "      <th>gill-color</th>\n",
       "      <th>...</th>\n",
       "      <th>stalk-surface-below-ring</th>\n",
       "      <th>stalk-color-above-ring</th>\n",
       "      <th>stalk-color-below-ring</th>\n",
       "      <th>veil-type</th>\n",
       "      <th>veil-color</th>\n",
       "      <th>ring-number</th>\n",
       "      <th>ring-type</th>\n",
       "      <th>spore-print-color</th>\n",
       "      <th>population</th>\n",
       "      <th>habitat</th>\n",
       "    </tr>\n",
       "  </thead>\n",
       "  <tbody>\n",
       "    <tr>\n",
       "      <th>count</th>\n",
       "      <td>8124</td>\n",
       "      <td>8124</td>\n",
       "      <td>8124</td>\n",
       "      <td>8124</td>\n",
       "      <td>8124</td>\n",
       "      <td>8124</td>\n",
       "      <td>8124</td>\n",
       "      <td>8124</td>\n",
       "      <td>8124</td>\n",
       "      <td>8124</td>\n",
       "      <td>...</td>\n",
       "      <td>8124</td>\n",
       "      <td>8124</td>\n",
       "      <td>8124</td>\n",
       "      <td>8124</td>\n",
       "      <td>8124</td>\n",
       "      <td>8124</td>\n",
       "      <td>8124</td>\n",
       "      <td>8124</td>\n",
       "      <td>8124</td>\n",
       "      <td>8124</td>\n",
       "    </tr>\n",
       "    <tr>\n",
       "      <th>unique</th>\n",
       "      <td>2</td>\n",
       "      <td>6</td>\n",
       "      <td>4</td>\n",
       "      <td>10</td>\n",
       "      <td>2</td>\n",
       "      <td>9</td>\n",
       "      <td>2</td>\n",
       "      <td>2</td>\n",
       "      <td>2</td>\n",
       "      <td>12</td>\n",
       "      <td>...</td>\n",
       "      <td>4</td>\n",
       "      <td>9</td>\n",
       "      <td>9</td>\n",
       "      <td>1</td>\n",
       "      <td>4</td>\n",
       "      <td>3</td>\n",
       "      <td>5</td>\n",
       "      <td>9</td>\n",
       "      <td>6</td>\n",
       "      <td>7</td>\n",
       "    </tr>\n",
       "    <tr>\n",
       "      <th>top</th>\n",
       "      <td>e</td>\n",
       "      <td>x</td>\n",
       "      <td>y</td>\n",
       "      <td>n</td>\n",
       "      <td>f</td>\n",
       "      <td>n</td>\n",
       "      <td>f</td>\n",
       "      <td>c</td>\n",
       "      <td>b</td>\n",
       "      <td>b</td>\n",
       "      <td>...</td>\n",
       "      <td>s</td>\n",
       "      <td>w</td>\n",
       "      <td>w</td>\n",
       "      <td>p</td>\n",
       "      <td>w</td>\n",
       "      <td>o</td>\n",
       "      <td>p</td>\n",
       "      <td>w</td>\n",
       "      <td>v</td>\n",
       "      <td>d</td>\n",
       "    </tr>\n",
       "    <tr>\n",
       "      <th>freq</th>\n",
       "      <td>4208</td>\n",
       "      <td>3656</td>\n",
       "      <td>3244</td>\n",
       "      <td>2284</td>\n",
       "      <td>4748</td>\n",
       "      <td>3528</td>\n",
       "      <td>7914</td>\n",
       "      <td>6812</td>\n",
       "      <td>5612</td>\n",
       "      <td>1728</td>\n",
       "      <td>...</td>\n",
       "      <td>4936</td>\n",
       "      <td>4464</td>\n",
       "      <td>4384</td>\n",
       "      <td>8124</td>\n",
       "      <td>7924</td>\n",
       "      <td>7488</td>\n",
       "      <td>3968</td>\n",
       "      <td>2388</td>\n",
       "      <td>4040</td>\n",
       "      <td>3148</td>\n",
       "    </tr>\n",
       "  </tbody>\n",
       "</table>\n",
       "<p>4 rows × 23 columns</p>\n",
       "</div>"
      ],
      "text/plain": [
       "       class cap-shape cap-surface cap-color bruises  odor gill-attachment  \\\n",
       "count   8124      8124        8124      8124    8124  8124            8124   \n",
       "unique     2         6           4        10       2     9               2   \n",
       "top        e         x           y         n       f     n               f   \n",
       "freq    4208      3656        3244      2284    4748  3528            7914   \n",
       "\n",
       "       gill-spacing gill-size gill-color  ... stalk-surface-below-ring  \\\n",
       "count          8124      8124       8124  ...                     8124   \n",
       "unique            2         2         12  ...                        4   \n",
       "top               c         b          b  ...                        s   \n",
       "freq           6812      5612       1728  ...                     4936   \n",
       "\n",
       "       stalk-color-above-ring stalk-color-below-ring veil-type veil-color  \\\n",
       "count                    8124                   8124      8124       8124   \n",
       "unique                      9                      9         1          4   \n",
       "top                         w                      w         p          w   \n",
       "freq                     4464                   4384      8124       7924   \n",
       "\n",
       "       ring-number ring-type spore-print-color population habitat  \n",
       "count         8124      8124              8124       8124    8124  \n",
       "unique           3         5                 9          6       7  \n",
       "top              o         p                 w          v       d  \n",
       "freq          7488      3968              2388       4040    3148  \n",
       "\n",
       "[4 rows x 23 columns]"
      ]
     },
     "execution_count": 4,
     "metadata": {},
     "output_type": "execute_result"
    }
   ],
   "source": [
    "df.describe()"
   ]
  },
  {
   "cell_type": "code",
   "execution_count": 5,
   "id": "3a44d8eb-20e5-4d9e-926b-e2259ff397f8",
   "metadata": {
    "id": "3a44d8eb-20e5-4d9e-926b-e2259ff397f8"
   },
   "outputs": [],
   "source": [
    "# Encode all categorical columns\n",
    "le = LabelEncoder()\n",
    "for col in df.columns:\n",
    "    df[col] = le.fit_transform(df[col])"
   ]
  },
  {
   "cell_type": "code",
   "execution_count": 6,
   "id": "8e0e4493-ec6e-47e6-b7f3-61d10e94cb36",
   "metadata": {
    "id": "8e0e4493-ec6e-47e6-b7f3-61d10e94cb36"
   },
   "outputs": [],
   "source": [
    "# Features and target\n",
    "X = df.drop(\"class\", axis=1)\n",
    "y = df[\"class\"]"
   ]
  },
  {
   "cell_type": "markdown",
   "id": "633132e5-de52-4701-b6d5-0d3fffe4c615",
   "metadata": {
    "id": "633132e5-de52-4701-b6d5-0d3fffe4c615"
   },
   "source": [
    "## Train-test split"
   ]
  },
  {
   "cell_type": "code",
   "execution_count": 7,
   "id": "e238882c-ed32-4df0-83ec-2ba3bca3a279",
   "metadata": {
    "id": "e238882c-ed32-4df0-83ec-2ba3bca3a279"
   },
   "outputs": [],
   "source": [
    "X_train, X_test, y_train, y_test = train_test_split(\n",
    "    X, y, test_size=0.2, random_state=42, stratify=y\n",
    ")"
   ]
  },
  {
   "cell_type": "markdown",
   "id": "98651178-3a6a-48f9-a99f-a48effb1a55b",
   "metadata": {
    "id": "98651178-3a6a-48f9-a99f-a48effb1a55b"
   },
   "source": [
    "## Base models"
   ]
  },
  {
   "cell_type": "code",
   "execution_count": 8,
   "id": "c3cab13a-549b-485b-af7f-1a6c89e84b4f",
   "metadata": {
    "id": "c3cab13a-549b-485b-af7f-1a6c89e84b4f"
   },
   "outputs": [],
   "source": [
    "models = {\n",
    "    \"Random Forest\": RandomForestClassifier(),\n",
    "    \"SVM\": SVC(probability=True),\n",
    "    \"Logistic Regression\": LogisticRegression(),\n",
    "    \"XGBoost\": XGBClassifier()\n",
    "}"
   ]
  },
  {
   "cell_type": "code",
   "execution_count": 9,
   "id": "61c65a2b-084f-4fce-84f5-9fd45263e68b",
   "metadata": {},
   "outputs": [],
   "source": [
    "results = []\n",
    "for name, model in models.items():\n",
    "    # Fit\n",
    "    model.fit(X_train, y_train)\n",
    "    \n",
    "    # Predictions\n",
    "    y_train_pred = model.predict(X_train)\n",
    "    y_test_pred = model.predict(X_test)\n",
    "    \n",
    "    # Accuracy\n",
    "    train_acc = accuracy_score(y_train, y_train_pred)\n",
    "    test_acc = accuracy_score(y_test, y_test_pred)\n",
    "    \n",
    "    results.append([name, train_acc, test_acc])"
   ]
  },
  {
   "cell_type": "code",
   "execution_count": 10,
   "id": "d255af69-c38a-41d8-9616-bc55b32fe2fd",
   "metadata": {},
   "outputs": [
    {
     "name": "stdout",
     "output_type": "stream",
     "text": [
      "                 Model  Train Accuracy  Test Accuracy\n",
      "0        Random Forest        1.000000       1.000000\n",
      "1                  SVM        0.990614       0.992000\n",
      "2  Logistic Regression        0.950454       0.957538\n",
      "3              XGBoost        1.000000       1.000000\n"
     ]
    }
   ],
   "source": [
    "# Convert to DataFrame for nice display\n",
    "acc_df = pd.DataFrame(results, columns=[\"Model\", \"Train Accuracy\", \"Test Accuracy\"])\n",
    "print(acc_df)"
   ]
  },
  {
   "cell_type": "markdown",
   "id": "df3ad0c7-6a76-4a63-bd16-b105063860c3",
   "metadata": {
    "id": "df3ad0c7-6a76-4a63-bd16-b105063860c3"
   },
   "source": [
    "## Ensemble Methods (on full train/test)"
   ]
  },
  {
   "cell_type": "markdown",
   "id": "cbecbb53-c23c-4bf2-99a3-d49675c78dc2",
   "metadata": {
    "id": "cbecbb53-c23c-4bf2-99a3-d49675c78dc2"
   },
   "source": [
    "### Hard Voting"
   ]
  },
  {
   "cell_type": "code",
   "execution_count": 11,
   "id": "dec21174-1cee-4304-a85f-994554ee68e8",
   "metadata": {
    "id": "dec21174-1cee-4304-a85f-994554ee68e8"
   },
   "outputs": [],
   "source": [
    "hard_voting = VotingClassifier(\n",
    "    estimators=[\n",
    "        (\"rf\", models[\"Random Forest\"]),\n",
    "        (\"svm\", models[\"SVM\"]),\n",
    "        (\"lr\", models[\"Logistic Regression\"]),\n",
    "        (\"xgb\", models[\"XGBoost\"])\n",
    "    ],\n",
    "    voting=\"hard\"\n",
    ")"
   ]
  },
  {
   "cell_type": "code",
   "execution_count": 12,
   "id": "059ecd9b-ed2f-4d6c-bb6a-937bdde46ba0",
   "metadata": {
    "colab": {
     "base_uri": "https://localhost:8080/"
    },
    "executionInfo": {
     "elapsed": 2706,
     "status": "ok",
     "timestamp": 1755941797684,
     "user": {
      "displayName": "BHABAL OM PRADEEP TU3F2223145",
      "userId": "03180837749453099155"
     },
     "user_tz": -330
    },
    "id": "059ecd9b-ed2f-4d6c-bb6a-937bdde46ba0",
    "outputId": "7627a672-27f1-4be0-919f-1dc9cfb0933b"
   },
   "outputs": [
    {
     "name": "stdout",
     "output_type": "stream",
     "text": [
      "\n",
      "Hard Voting Accuracy: 0.9932307692307693\n",
      "              precision    recall  f1-score   support\n",
      "\n",
      "           0       0.99      1.00      0.99       842\n",
      "           1       1.00      0.99      0.99       783\n",
      "\n",
      "    accuracy                           0.99      1625\n",
      "   macro avg       0.99      0.99      0.99      1625\n",
      "weighted avg       0.99      0.99      0.99      1625\n",
      "\n"
     ]
    }
   ],
   "source": [
    "hard_voting.fit(X_train, y_train)\n",
    "y_pred_hard = hard_voting.predict(X_test)\n",
    "print(\"\\nHard Voting Accuracy:\", accuracy_score(y_test, y_pred_hard))\n",
    "print(classification_report(y_test, y_pred_hard))"
   ]
  },
  {
   "cell_type": "markdown",
   "id": "38e6f9ee-4948-4fbc-9b95-abdacbe8592a",
   "metadata": {
    "id": "38e6f9ee-4948-4fbc-9b95-abdacbe8592a"
   },
   "source": [
    "### Soft Voting"
   ]
  },
  {
   "cell_type": "code",
   "execution_count": 13,
   "id": "d250ff11-bdee-4160-94c6-717e977055d4",
   "metadata": {
    "id": "d250ff11-bdee-4160-94c6-717e977055d4"
   },
   "outputs": [],
   "source": [
    "soft_voting = VotingClassifier(\n",
    "    estimators=[\n",
    "        (\"rf\", models[\"Random Forest\"]),\n",
    "        (\"svm\", models[\"SVM\"]),\n",
    "        (\"lr\", models[\"Logistic Regression\"]),\n",
    "        (\"xgb\", models[\"XGBoost\"])\n",
    "    ],\n",
    "    voting=\"soft\"\n",
    ")"
   ]
  },
  {
   "cell_type": "code",
   "execution_count": 14,
   "id": "c9b19214-71a0-4a20-86cf-059aa29c0bd5",
   "metadata": {
    "colab": {
     "base_uri": "https://localhost:8080/"
    },
    "executionInfo": {
     "elapsed": 2618,
     "status": "ok",
     "timestamp": 1755941800300,
     "user": {
      "displayName": "BHABAL OM PRADEEP TU3F2223145",
      "userId": "03180837749453099155"
     },
     "user_tz": -330
    },
    "id": "c9b19214-71a0-4a20-86cf-059aa29c0bd5",
    "outputId": "512011ff-6273-4f26-e7f2-a378d9e0604e"
   },
   "outputs": [
    {
     "name": "stdout",
     "output_type": "stream",
     "text": [
      "\n",
      "Soft Voting Accuracy: 1.0\n",
      "              precision    recall  f1-score   support\n",
      "\n",
      "           0       1.00      1.00      1.00       842\n",
      "           1       1.00      1.00      1.00       783\n",
      "\n",
      "    accuracy                           1.00      1625\n",
      "   macro avg       1.00      1.00      1.00      1625\n",
      "weighted avg       1.00      1.00      1.00      1625\n",
      "\n"
     ]
    }
   ],
   "source": [
    "soft_voting.fit(X_train, y_train)\n",
    "y_pred_soft = soft_voting.predict(X_test)\n",
    "print(\"\\nSoft Voting Accuracy:\", accuracy_score(y_test, y_pred_soft))\n",
    "print(classification_report(y_test, y_pred_soft))"
   ]
  },
  {
   "cell_type": "markdown",
   "id": "fc393b8c-0225-4aba-93a1-8d3cb7b051e1",
   "metadata": {
    "id": "fc393b8c-0225-4aba-93a1-8d3cb7b051e1"
   },
   "source": [
    "### Stacking"
   ]
  },
  {
   "cell_type": "code",
   "execution_count": 15,
   "id": "11021f02-f7f0-47f0-b654-58936d2c60c9",
   "metadata": {
    "id": "11021f02-f7f0-47f0-b654-58936d2c60c9"
   },
   "outputs": [],
   "source": [
    "stacking = StackingClassifier(\n",
    "    estimators=[\n",
    "        (\"rf\", models[\"Random Forest\"]),\n",
    "        (\"svm\", models[\"SVM\"]),\n",
    "        (\"xgb\", models[\"XGBoost\"])\n",
    "    ],\n",
    "    final_estimator=LogisticRegression(),\n",
    "    cv=5\n",
    ")"
   ]
  },
  {
   "cell_type": "code",
   "execution_count": 16,
   "id": "9535a621-0dbf-4c08-a365-9f00c485dce8",
   "metadata": {
    "colab": {
     "base_uri": "https://localhost:8080/"
    },
    "executionInfo": {
     "elapsed": 10968,
     "status": "ok",
     "timestamp": 1755941811272,
     "user": {
      "displayName": "BHABAL OM PRADEEP TU3F2223145",
      "userId": "03180837749453099155"
     },
     "user_tz": -330
    },
    "id": "9535a621-0dbf-4c08-a365-9f00c485dce8",
    "outputId": "73cf2097-d034-4999-98a1-9cc1c62c44fd"
   },
   "outputs": [
    {
     "name": "stdout",
     "output_type": "stream",
     "text": [
      "\n",
      "Stacking Accuracy: 1.0\n",
      "              precision    recall  f1-score   support\n",
      "\n",
      "           0       1.00      1.00      1.00       842\n",
      "           1       1.00      1.00      1.00       783\n",
      "\n",
      "    accuracy                           1.00      1625\n",
      "   macro avg       1.00      1.00      1.00      1625\n",
      "weighted avg       1.00      1.00      1.00      1625\n",
      "\n"
     ]
    }
   ],
   "source": [
    "stacking.fit(X_train, y_train)\n",
    "y_pred_stack = stacking.predict(X_test)\n",
    "print(\"\\nStacking Accuracy:\", accuracy_score(y_test, y_pred_stack))\n",
    "print(classification_report(y_test, y_pred_stack))"
   ]
  },
  {
   "cell_type": "markdown",
   "id": "3bde0d17-b452-4fb5-8e40-62062269fa76",
   "metadata": {
    "id": "3bde0d17-b452-4fb5-8e40-62062269fa76"
   },
   "source": [
    "## Cross Validation (K-fold)"
   ]
  },
  {
   "cell_type": "code",
   "execution_count": 17,
   "id": "665d301d-afff-4189-baf2-276d22a301e1",
   "metadata": {
    "id": "665d301d-afff-4189-baf2-276d22a301e1"
   },
   "outputs": [],
   "source": [
    "all_models = {\n",
    "    \"Random Forest\": RandomForestClassifier(),\n",
    "    \"SVM\": SVC(probability=True),\n",
    "    \"Logistic Regression\": LogisticRegression(),\n",
    "    \"XGBoost\": XGBClassifier(),\n",
    "    \"Hard Voting\": hard_voting,\n",
    "    \"Soft Voting\": soft_voting,\n",
    "    \"Stacking\": stacking\n",
    "}"
   ]
  },
  {
   "cell_type": "code",
   "execution_count": 18,
   "id": "8106520f-b0b0-406b-92c0-1e0a8c0bba97",
   "metadata": {
    "colab": {
     "base_uri": "https://localhost:8080/"
    },
    "executionInfo": {
     "elapsed": 207390,
     "status": "ok",
     "timestamp": 1755942018653,
     "user": {
      "displayName": "BHABAL OM PRADEEP TU3F2223145",
      "userId": "03180837749453099155"
     },
     "user_tz": -330
    },
    "id": "8106520f-b0b0-406b-92c0-1e0a8c0bba97",
    "outputId": "6c3393ee-105b-4c4b-879f-0b475a7c500f"
   },
   "outputs": [
    {
     "name": "stdout",
     "output_type": "stream",
     "text": [
      "\n",
      "=== Final Cross-Validation (10-Fold) Results ===\n",
      "Random Forest: Mean CV Accuracy = 0.9625 (+/- 0.0942)\n",
      "SVM: Mean CV Accuracy = 0.9172 (+/- 0.1289)\n",
      "Logistic Regression: Mean CV Accuracy = 0.8800 (+/- 0.1283)\n",
      "XGBoost: Mean CV Accuracy = 0.9654 (+/- 0.0939)\n",
      "Hard Voting: Mean CV Accuracy = 0.9483 (+/- 0.0916)\n",
      "Soft Voting: Mean CV Accuracy = 0.9334 (+/- 0.1334)\n",
      "Stacking: Mean CV Accuracy = 0.9676 (+/- 0.0942)\n"
     ]
    }
   ],
   "source": [
    "print(\"\\n=== Final Cross-Validation (10-Fold) Results ===\")\n",
    "\n",
    "for name, model in all_models.items():\n",
    "    scores = cross_val_score(model, X, y, cv=10, scoring=\"accuracy\")\n",
    "    print(f\"{name}: Mean CV Accuracy = {scores.mean():.4f} (+/- {scores.std():.4f})\")"
   ]
  },
  {
   "cell_type": "markdown",
   "id": "9616d184-1bc8-4dc2-ad74-9a7b481676ef",
   "metadata": {
    "id": "9616d184-1bc8-4dc2-ad74-9a7b481676ef"
   },
   "source": [
    "# Phase II: Feature Selection"
   ]
  },
  {
   "cell_type": "markdown",
   "id": "32372ac0-c8c9-4c08-8a08-a55925f33c62",
   "metadata": {
    "id": "32372ac0-c8c9-4c08-8a08-a55925f33c62"
   },
   "source": [
    "## Importing models"
   ]
  },
  {
   "cell_type": "code",
   "execution_count": 19,
   "id": "cc5a74f0-96c8-45b1-917e-1dfe498a074e",
   "metadata": {
    "id": "cc5a74f0-96c8-45b1-917e-1dfe498a074e"
   },
   "outputs": [],
   "source": [
    "import pandas as pd\n",
    "import numpy as np\n",
    "from sklearn.preprocessing import LabelEncoder\n",
    "from sklearn.model_selection import train_test_split, KFold, cross_val_score\n",
    "from sklearn.feature_selection import SelectKBest, chi2, RFE\n",
    "from sklearn.ensemble import RandomForestClassifier\n",
    "from sklearn.svm import SVC\n",
    "from sklearn.linear_model import LogisticRegression\n",
    "from xgboost import XGBClassifier"
   ]
  },
  {
   "cell_type": "markdown",
   "id": "d15d6bac-42a5-44ad-aa93-cd4367f39e16",
   "metadata": {
    "id": "d15d6bac-42a5-44ad-aa93-cd4367f39e16"
   },
   "source": [
    "## Feature Selection - SelectKBest"
   ]
  },
  {
   "cell_type": "code",
   "execution_count": 20,
   "id": "3837e8ba-afdd-4a3b-ab0e-dcdcfe6b7a64",
   "metadata": {
    "colab": {
     "base_uri": "https://localhost:8080/"
    },
    "executionInfo": {
     "elapsed": 33,
     "status": "ok",
     "timestamp": 1755942018715,
     "user": {
      "displayName": "BHABAL OM PRADEEP TU3F2223145",
      "userId": "03180837749453099155"
     },
     "user_tz": -330
    },
    "id": "3837e8ba-afdd-4a3b-ab0e-dcdcfe6b7a64",
    "outputId": "2fa36104-fd05-4157-c6af-2e6ad809c111"
   },
   "outputs": [
    {
     "name": "stdout",
     "output_type": "stream",
     "text": [
      "SelectKBest selected 22 features\n"
     ]
    }
   ],
   "source": [
    "k = X_train.shape[1]    # choose all features (adjust as needed)\n",
    "\n",
    "select_kbest = SelectKBest(score_func=chi2, k=k)\n",
    "X_train_kbest = select_kbest.fit_transform(X_train, y_train)\n",
    "X_test_kbest = select_kbest.transform(X_test)\n",
    "\n",
    "print(f\"SelectKBest selected {X_train_kbest.shape[1]} features\")"
   ]
  },
  {
   "cell_type": "markdown",
   "id": "536bc79a-e319-41c2-8d5f-9d9da2b966cf",
   "metadata": {
    "id": "536bc79a-e319-41c2-8d5f-9d9da2b966cf"
   },
   "source": [
    "## Feature Selection - RFE"
   ]
  },
  {
   "cell_type": "code",
   "execution_count": 21,
   "id": "326db958-b310-49f6-9ccb-4594588ce732",
   "metadata": {
    "colab": {
     "base_uri": "https://localhost:8080/"
    },
    "executionInfo": {
     "elapsed": 146,
     "status": "ok",
     "timestamp": 1755942018862,
     "user": {
      "displayName": "BHABAL OM PRADEEP TU3F2223145",
      "userId": "03180837749453099155"
     },
     "user_tz": -330
    },
    "id": "326db958-b310-49f6-9ccb-4594588ce732",
    "outputId": "fccb3df9-0482-4144-e56f-d5235406fa87"
   },
   "outputs": [
    {
     "name": "stdout",
     "output_type": "stream",
     "text": [
      "RFE selected 22 features\n"
     ]
    }
   ],
   "source": [
    "base_estimator = LogisticRegression(max_iter=500, random_state=42)\n",
    "rfe = RFE(base_estimator, n_features_to_select=k)\n",
    "X_train_rfe = rfe.fit_transform(X_train, y_train)\n",
    "X_test_rfe = rfe.transform(X_test)\n",
    "\n",
    "print(f\"RFE selected {X_train_rfe.shape[1]} features\")"
   ]
  },
  {
   "cell_type": "markdown",
   "id": "d160ef72-d950-449c-9387-1497dd6eaab9",
   "metadata": {
    "id": "d160ef72-d950-449c-9387-1497dd6eaab9"
   },
   "source": [
    "###  Define Models"
   ]
  },
  {
   "cell_type": "code",
   "execution_count": 22,
   "id": "9b13d7e3-f480-429f-8fdd-fef2a7eb3161",
   "metadata": {
    "id": "9b13d7e3-f480-429f-8fdd-fef2a7eb3161"
   },
   "outputs": [],
   "source": [
    "models = {\n",
    "    \"Random Forest\": RandomForestClassifier(),\n",
    "    \"SVM\": SVC(probability=True),\n",
    "    \"Logistic Regression\": LogisticRegression(),\n",
    "    \"XGBoost\": XGBClassifier()\n",
    "}"
   ]
  },
  {
   "cell_type": "markdown",
   "id": "08d75ceb-a23c-454a-ab26-252fe7ff3e82",
   "metadata": {
    "id": "08d75ceb-a23c-454a-ab26-252fe7ff3e82"
   },
   "source": [
    "## Ensembles with Select K best"
   ]
  },
  {
   "cell_type": "markdown",
   "id": "d7efdb29-6cb0-41de-91e0-a08c6eb234c3",
   "metadata": {
    "id": "d7efdb29-6cb0-41de-91e0-a08c6eb234c3"
   },
   "source": [
    "### Hard Voting"
   ]
  },
  {
   "cell_type": "code",
   "execution_count": 23,
   "id": "a968b6fc-69b5-4ba8-90af-68eb4576286a",
   "metadata": {
    "id": "a968b6fc-69b5-4ba8-90af-68eb4576286a"
   },
   "outputs": [],
   "source": [
    "hard_voting_kbest = VotingClassifier(\n",
    "    estimators=[\n",
    "        (\"rf\", RandomForestClassifier()),\n",
    "        (\"svm\", SVC(probability=True)),\n",
    "        (\"lr\", LogisticRegression()),\n",
    "        (\"xgb\", XGBClassifier())\n",
    "    ],\n",
    "    voting=\"hard\"\n",
    ")"
   ]
  },
  {
   "cell_type": "code",
   "execution_count": 24,
   "id": "6189ff6f-380c-4132-8a82-81d1cdcde038",
   "metadata": {
    "colab": {
     "base_uri": "https://localhost:8080/"
    },
    "executionInfo": {
     "elapsed": 3960,
     "status": "ok",
     "timestamp": 1755942022862,
     "user": {
      "displayName": "BHABAL OM PRADEEP TU3F2223145",
      "userId": "03180837749453099155"
     },
     "user_tz": -330
    },
    "id": "6189ff6f-380c-4132-8a82-81d1cdcde038",
    "outputId": "55fc2698-5360-439d-e2d0-8dc9ea63df3a"
   },
   "outputs": [
    {
     "name": "stdout",
     "output_type": "stream",
     "text": [
      "\n",
      "Hard Voting (SelectKBest):\n",
      "Accuracy: 0.9932307692307693\n",
      "              precision    recall  f1-score   support\n",
      "\n",
      "           0       0.99      1.00      0.99       842\n",
      "           1       1.00      0.99      0.99       783\n",
      "\n",
      "    accuracy                           0.99      1625\n",
      "   macro avg       0.99      0.99      0.99      1625\n",
      "weighted avg       0.99      0.99      0.99      1625\n",
      "\n"
     ]
    }
   ],
   "source": [
    "hard_voting_kbest.fit(X_train_kbest, y_train)\n",
    "y_pred_hard_kbest = hard_voting_kbest.predict(X_test_kbest)\n",
    "print(\"\\nHard Voting (SelectKBest):\")\n",
    "print(\"Accuracy:\", accuracy_score(y_test, y_pred_hard_kbest))\n",
    "print(classification_report(y_test, y_pred_hard_kbest))"
   ]
  },
  {
   "cell_type": "markdown",
   "id": "936c4894-df7b-4dac-9c74-85ca26ce60ad",
   "metadata": {
    "id": "936c4894-df7b-4dac-9c74-85ca26ce60ad"
   },
   "source": [
    "### Soft Voting"
   ]
  },
  {
   "cell_type": "code",
   "execution_count": 25,
   "id": "aa48a199-1c54-4063-93ca-ab6121db5684",
   "metadata": {
    "id": "aa48a199-1c54-4063-93ca-ab6121db5684"
   },
   "outputs": [],
   "source": [
    "soft_voting_kbest = VotingClassifier(\n",
    "    estimators=[\n",
    "        (\"rf\", RandomForestClassifier()),\n",
    "        (\"svm\", SVC(probability=True)),\n",
    "        (\"lr\", LogisticRegression()),\n",
    "        (\"xgb\", XGBClassifier())\n",
    "    ],\n",
    "    voting=\"soft\"\n",
    ")"
   ]
  },
  {
   "cell_type": "code",
   "execution_count": 26,
   "id": "bf0363dd-5c08-48cf-8434-957ce438f7c3",
   "metadata": {
    "colab": {
     "base_uri": "https://localhost:8080/"
    },
    "executionInfo": {
     "elapsed": 3405,
     "status": "ok",
     "timestamp": 1755942026278,
     "user": {
      "displayName": "BHABAL OM PRADEEP TU3F2223145",
      "userId": "03180837749453099155"
     },
     "user_tz": -330
    },
    "id": "bf0363dd-5c08-48cf-8434-957ce438f7c3",
    "outputId": "9f475f4f-59f5-4203-cc04-69af63e21964"
   },
   "outputs": [
    {
     "name": "stdout",
     "output_type": "stream",
     "text": [
      "\n",
      "Soft Voting (SelectKBest):\n",
      "Accuracy: 1.0\n",
      "              precision    recall  f1-score   support\n",
      "\n",
      "           0       1.00      1.00      1.00       842\n",
      "           1       1.00      1.00      1.00       783\n",
      "\n",
      "    accuracy                           1.00      1625\n",
      "   macro avg       1.00      1.00      1.00      1625\n",
      "weighted avg       1.00      1.00      1.00      1625\n",
      "\n"
     ]
    }
   ],
   "source": [
    "soft_voting_kbest.fit(X_train_kbest, y_train)\n",
    "y_pred_soft_kbest = soft_voting_kbest.predict(X_test_kbest)\n",
    "print(\"\\nSoft Voting (SelectKBest):\")\n",
    "print(\"Accuracy:\", accuracy_score(y_test, y_pred_soft_kbest))\n",
    "print(classification_report(y_test, y_pred_soft_kbest))"
   ]
  },
  {
   "cell_type": "markdown",
   "id": "1b7cf99a-e098-4698-a410-30204948e1bc",
   "metadata": {
    "id": "1b7cf99a-e098-4698-a410-30204948e1bc"
   },
   "source": [
    "### Stacking"
   ]
  },
  {
   "cell_type": "code",
   "execution_count": 27,
   "id": "4d122372-aecf-4121-9832-71baa7706c7e",
   "metadata": {
    "id": "4d122372-aecf-4121-9832-71baa7706c7e"
   },
   "outputs": [],
   "source": [
    "stacking_kbest = StackingClassifier(\n",
    "    estimators=[\n",
    "        (\"rf\", RandomForestClassifier()),\n",
    "        (\"svm\", SVC(probability=True)),\n",
    "        (\"xgb\", XGBClassifier())\n",
    "    ],\n",
    "    final_estimator=LogisticRegression(),\n",
    "    cv=10\n",
    ")"
   ]
  },
  {
   "cell_type": "code",
   "execution_count": 28,
   "id": "9055326c-6496-4a12-abc4-dc885d85ff92",
   "metadata": {
    "colab": {
     "base_uri": "https://localhost:8080/"
    },
    "executionInfo": {
     "elapsed": 11099,
     "status": "ok",
     "timestamp": 1755942037375,
     "user": {
      "displayName": "BHABAL OM PRADEEP TU3F2223145",
      "userId": "03180837749453099155"
     },
     "user_tz": -330
    },
    "id": "9055326c-6496-4a12-abc4-dc885d85ff92",
    "outputId": "1e1105b0-9acf-4696-9170-72d45d050538"
   },
   "outputs": [
    {
     "name": "stdout",
     "output_type": "stream",
     "text": [
      "\n",
      "Stacking (SelectKBest):\n",
      "Accuracy: 1.0\n",
      "              precision    recall  f1-score   support\n",
      "\n",
      "           0       1.00      1.00      1.00       842\n",
      "           1       1.00      1.00      1.00       783\n",
      "\n",
      "    accuracy                           1.00      1625\n",
      "   macro avg       1.00      1.00      1.00      1625\n",
      "weighted avg       1.00      1.00      1.00      1625\n",
      "\n"
     ]
    }
   ],
   "source": [
    "stacking_kbest.fit(X_train_kbest, y_train)\n",
    "y_pred_stack_kbest = stacking_kbest.predict(X_test_kbest)\n",
    "print(\"\\nStacking (SelectKBest):\")\n",
    "print(\"Accuracy:\", accuracy_score(y_test, y_pred_stack_kbest))\n",
    "print(classification_report(y_test, y_pred_stack_kbest))"
   ]
  },
  {
   "cell_type": "markdown",
   "id": "56033446-fedd-4a71-866e-5cb3ea3a9aff",
   "metadata": {
    "id": "56033446-fedd-4a71-866e-5cb3ea3a9aff"
   },
   "source": [
    "## Ensembles with RFE features"
   ]
  },
  {
   "cell_type": "markdown",
   "id": "d6a62d1f-cea2-41b4-adbc-108043871196",
   "metadata": {
    "id": "d6a62d1f-cea2-41b4-adbc-108043871196"
   },
   "source": [
    "### Hard Voting"
   ]
  },
  {
   "cell_type": "code",
   "execution_count": 29,
   "id": "dfa02d6a-51ce-4484-98c6-835862a0440a",
   "metadata": {
    "id": "dfa02d6a-51ce-4484-98c6-835862a0440a"
   },
   "outputs": [],
   "source": [
    "hard_voting_rfe = VotingClassifier(\n",
    "    estimators=[\n",
    "        (\"rf\", RandomForestClassifier()),\n",
    "        (\"svm\", SVC(probability=True)),\n",
    "        (\"lr\", LogisticRegression()),\n",
    "        (\"xgb\", XGBClassifier())\n",
    "    ],\n",
    "    voting=\"hard\"\n",
    ")"
   ]
  },
  {
   "cell_type": "code",
   "execution_count": 30,
   "id": "3f1280aa-98d2-4efb-b30c-3fd339766671",
   "metadata": {
    "colab": {
     "base_uri": "https://localhost:8080/"
    },
    "executionInfo": {
     "elapsed": 2560,
     "status": "ok",
     "timestamp": 1755942039944,
     "user": {
      "displayName": "BHABAL OM PRADEEP TU3F2223145",
      "userId": "03180837749453099155"
     },
     "user_tz": -330
    },
    "id": "3f1280aa-98d2-4efb-b30c-3fd339766671",
    "outputId": "78d8211e-4e43-45d2-e073-69deb63e92eb"
   },
   "outputs": [
    {
     "name": "stdout",
     "output_type": "stream",
     "text": [
      "\n",
      "Hard Voting (RFE):\n",
      "Accuracy: 0.9932307692307693\n",
      "              precision    recall  f1-score   support\n",
      "\n",
      "           0       0.99      1.00      0.99       842\n",
      "           1       1.00      0.99      0.99       783\n",
      "\n",
      "    accuracy                           0.99      1625\n",
      "   macro avg       0.99      0.99      0.99      1625\n",
      "weighted avg       0.99      0.99      0.99      1625\n",
      "\n"
     ]
    }
   ],
   "source": [
    "hard_voting_rfe.fit(X_train_rfe, y_train)\n",
    "y_pred_hard_rfe = hard_voting_rfe.predict(X_test_rfe)\n",
    "print(\"\\nHard Voting (RFE):\")\n",
    "print(\"Accuracy:\", accuracy_score(y_test, y_pred_hard_rfe))\n",
    "print(classification_report(y_test, y_pred_hard_rfe))"
   ]
  },
  {
   "cell_type": "markdown",
   "id": "8a97a441-3dea-41f2-b946-d629f11c1222",
   "metadata": {
    "id": "8a97a441-3dea-41f2-b946-d629f11c1222"
   },
   "source": [
    "### Soft Voting"
   ]
  },
  {
   "cell_type": "code",
   "execution_count": 31,
   "id": "fffe3112-68fd-4c18-875b-c63ae08f031f",
   "metadata": {
    "id": "fffe3112-68fd-4c18-875b-c63ae08f031f"
   },
   "outputs": [],
   "source": [
    "soft_voting_rfe = VotingClassifier(\n",
    "    estimators=[\n",
    "        (\"rf\", RandomForestClassifier()),\n",
    "        (\"svm\", SVC(probability=True)),\n",
    "        (\"lr\", LogisticRegression()),\n",
    "        (\"xgb\", XGBClassifier())\n",
    "    ],\n",
    "    voting=\"soft\"\n",
    ")"
   ]
  },
  {
   "cell_type": "code",
   "execution_count": 32,
   "id": "354fcf3f-82db-4237-9511-aef056115c92",
   "metadata": {
    "colab": {
     "base_uri": "https://localhost:8080/"
    },
    "executionInfo": {
     "elapsed": 2432,
     "status": "ok",
     "timestamp": 1755942042401,
     "user": {
      "displayName": "BHABAL OM PRADEEP TU3F2223145",
      "userId": "03180837749453099155"
     },
     "user_tz": -330
    },
    "id": "354fcf3f-82db-4237-9511-aef056115c92",
    "outputId": "4ece4607-2503-4cf6-cf1a-0e2399cfcb78"
   },
   "outputs": [
    {
     "name": "stdout",
     "output_type": "stream",
     "text": [
      "\n",
      "Soft Voting (RFE):\n",
      "Accuracy: 1.0\n",
      "              precision    recall  f1-score   support\n",
      "\n",
      "           0       1.00      1.00      1.00       842\n",
      "           1       1.00      1.00      1.00       783\n",
      "\n",
      "    accuracy                           1.00      1625\n",
      "   macro avg       1.00      1.00      1.00      1625\n",
      "weighted avg       1.00      1.00      1.00      1625\n",
      "\n"
     ]
    }
   ],
   "source": [
    "soft_voting_rfe.fit(X_train_rfe, y_train)\n",
    "y_pred_soft_rfe = soft_voting_rfe.predict(X_test_rfe)\n",
    "print(\"\\nSoft Voting (RFE):\")\n",
    "print(\"Accuracy:\", accuracy_score(y_test, y_pred_soft_rfe))\n",
    "print(classification_report(y_test, y_pred_soft_rfe))"
   ]
  },
  {
   "cell_type": "markdown",
   "id": "ec08c340-1dac-4439-ad00-d79d5d478e62",
   "metadata": {
    "id": "ec08c340-1dac-4439-ad00-d79d5d478e62"
   },
   "source": [
    "### Stacking"
   ]
  },
  {
   "cell_type": "code",
   "execution_count": 33,
   "id": "6798b684-a784-40e8-b746-f4d05199458e",
   "metadata": {
    "id": "6798b684-a784-40e8-b746-f4d05199458e"
   },
   "outputs": [],
   "source": [
    "stacking_rfe = StackingClassifier(\n",
    "    estimators=[\n",
    "        (\"rf\", RandomForestClassifier()),\n",
    "        (\"svm\", SVC(probability=True)),\n",
    "        (\"xgb\", XGBClassifier())\n",
    "    ],\n",
    "    final_estimator=LogisticRegression(),\n",
    "    cv=10\n",
    ")"
   ]
  },
  {
   "cell_type": "code",
   "execution_count": 34,
   "id": "f14b4430-51b2-4e6c-85b5-a5d7b8f2a2b2",
   "metadata": {
    "colab": {
     "base_uri": "https://localhost:8080/"
    },
    "executionInfo": {
     "elapsed": 10977,
     "status": "ok",
     "timestamp": 1755942053395,
     "user": {
      "displayName": "BHABAL OM PRADEEP TU3F2223145",
      "userId": "03180837749453099155"
     },
     "user_tz": -330
    },
    "id": "f14b4430-51b2-4e6c-85b5-a5d7b8f2a2b2",
    "outputId": "617e4eae-8945-404e-87b9-7bb5cbb022ea"
   },
   "outputs": [
    {
     "name": "stdout",
     "output_type": "stream",
     "text": [
      "\n",
      "Stacking (RFE):\n",
      "Accuracy: 1.0\n",
      "              precision    recall  f1-score   support\n",
      "\n",
      "           0       1.00      1.00      1.00       842\n",
      "           1       1.00      1.00      1.00       783\n",
      "\n",
      "    accuracy                           1.00      1625\n",
      "   macro avg       1.00      1.00      1.00      1625\n",
      "weighted avg       1.00      1.00      1.00      1625\n",
      "\n"
     ]
    }
   ],
   "source": [
    "stacking_rfe.fit(X_train_rfe, y_train)\n",
    "y_pred_stack_rfe = stacking_rfe.predict(X_test_rfe)\n",
    "print(\"\\nStacking (RFE):\")\n",
    "print(\"Accuracy:\", accuracy_score(y_test, y_pred_stack_rfe))\n",
    "print(classification_report(y_test, y_pred_stack_rfe))"
   ]
  },
  {
   "cell_type": "markdown",
   "id": "00e30e74-36e4-4ca6-9fb2-261ec9c2b74b",
   "metadata": {
    "id": "00e30e74-36e4-4ca6-9fb2-261ec9c2b74b"
   },
   "source": [
    "## Cross-Validation for Ensembles"
   ]
  },
  {
   "cell_type": "code",
   "execution_count": 35,
   "id": "4ea8c6b1-67dc-411a-ad41-b3773f528232",
   "metadata": {
    "id": "4ea8c6b1-67dc-411a-ad41-b3773f528232"
   },
   "outputs": [],
   "source": [
    "def evaluate_cv(model, X, y, model_name, dataset_name):\n",
    "    scores = cross_val_score(model, X, y, cv=10, scoring=\"accuracy\")\n",
    "    print(f\"{model_name} ({dataset_name}) - Mean CV Accuracy: {scores.mean():.4f} (+/- {scores.std():.4f})\")"
   ]
  },
  {
   "cell_type": "code",
   "execution_count": 36,
   "id": "08cf7896-d4e9-4aea-90ae-777101ae5fea",
   "metadata": {
    "colab": {
     "base_uri": "https://localhost:8080/"
    },
    "executionInfo": {
     "elapsed": 140423,
     "status": "ok",
     "timestamp": 1755942193810,
     "user": {
      "displayName": "BHABAL OM PRADEEP TU3F2223145",
      "userId": "03180837749453099155"
     },
     "user_tz": -330
    },
    "id": "08cf7896-d4e9-4aea-90ae-777101ae5fea",
    "outputId": "e45e11bf-5a09-4565-cc87-071b60acedf2"
   },
   "outputs": [
    {
     "name": "stdout",
     "output_type": "stream",
     "text": [
      "\n",
      "=== Cross Validation (10-fold) on Ensembles with SelectKBest Features ===\n",
      "Hard Voting (SelectKBest) - Mean CV Accuracy: 0.9895 (+/- 0.0050)\n",
      "Soft Voting (SelectKBest) - Mean CV Accuracy: 1.0000 (+/- 0.0000)\n",
      "Stacking (SelectKBest) - Mean CV Accuracy: 1.0000 (+/- 0.0000)\n"
     ]
    }
   ],
   "source": [
    "print(\"\\n=== Cross Validation (10-fold) on Ensembles with SelectKBest Features ===\")\n",
    "\n",
    "evaluate_cv(hard_voting_kbest, X_train_kbest, y_train, \"Hard Voting\", \"SelectKBest\")\n",
    "evaluate_cv(soft_voting_kbest, X_train_kbest, y_train, \"Soft Voting\", \"SelectKBest\")\n",
    "evaluate_cv(stacking_kbest, X_train_kbest, y_train, \"Stacking\", \"SelectKBest\")"
   ]
  },
  {
   "cell_type": "code",
   "execution_count": 37,
   "id": "9c624516-d364-492e-b211-ea7016cfb682",
   "metadata": {
    "colab": {
     "base_uri": "https://localhost:8080/"
    },
    "executionInfo": {
     "elapsed": 140427,
     "status": "ok",
     "timestamp": 1755942334236,
     "user": {
      "displayName": "BHABAL OM PRADEEP TU3F2223145",
      "userId": "03180837749453099155"
     },
     "user_tz": -330
    },
    "id": "9c624516-d364-492e-b211-ea7016cfb682",
    "outputId": "a2d1cb36-5748-4665-ba9f-165f2ee6e4ef"
   },
   "outputs": [
    {
     "name": "stdout",
     "output_type": "stream",
     "text": [
      "\n",
      "=== Cross Validation (10-fold) on Ensembles with RFE Features ===\n",
      "Hard Voting (RFE) - Mean CV Accuracy: 0.9895 (+/- 0.0050)\n",
      "Soft Voting (RFE) - Mean CV Accuracy: 1.0000 (+/- 0.0000)\n",
      "Stacking (RFE) - Mean CV Accuracy: 1.0000 (+/- 0.0000)\n"
     ]
    }
   ],
   "source": [
    "print(\"\\n=== Cross Validation (10-fold) on Ensembles with RFE Features ===\")\n",
    "\n",
    "evaluate_cv(hard_voting_rfe, X_train_rfe, y_train, \"Hard Voting\", \"RFE\")\n",
    "evaluate_cv(soft_voting_rfe, X_train_rfe, y_train, \"Soft Voting\", \"RFE\")\n",
    "evaluate_cv(stacking_rfe, X_train_rfe, y_train, \"Stacking\", \"RFE\")"
   ]
  },
  {
   "cell_type": "markdown",
   "id": "c69b4953-a999-4e45-affa-c3d47e25e4f6",
   "metadata": {
    "id": "c69b4953-a999-4e45-affa-c3d47e25e4f6"
   },
   "source": [
    "# Phase III: Hyperparameter Tuning (GridSearchCV)"
   ]
  },
  {
   "cell_type": "markdown",
   "id": "5737549f-3927-4821-8085-b9ed1f712348",
   "metadata": {
    "id": "5737549f-3927-4821-8085-b9ed1f712348"
   },
   "source": [
    "## Import Model"
   ]
  },
  {
   "cell_type": "code",
   "execution_count": 38,
   "id": "8ea7f1b2-e312-4443-a2fe-e23db6a4471b",
   "metadata": {
    "id": "8ea7f1b2-e312-4443-a2fe-e23db6a4471b"
   },
   "outputs": [],
   "source": [
    "from sklearn.model_selection import GridSearchCV"
   ]
  },
  {
   "cell_type": "code",
   "execution_count": 39,
   "id": "9ee74a9b-3bf6-469a-a024-4a5d1b98e837",
   "metadata": {
    "id": "9ee74a9b-3bf6-469a-a024-4a5d1b98e837"
   },
   "outputs": [],
   "source": [
    "# Example hyperparameter grids\n",
    "param_grids = {\n",
    "    \"Random Forest\": {},\n",
    "    \"SVM\": {\"probability\": [True]},\n",
    "    \"Logistic Regression\": {},\n",
    "    \"XGBoost\": {}\n",
    "}"
   ]
  },
  {
   "cell_type": "code",
   "execution_count": 40,
   "id": "f8a7a5c7-5e28-4064-84b3-3d2c7358e6f4",
   "metadata": {
    "id": "f8a7a5c7-5e28-4064-84b3-3d2c7358e6f4"
   },
   "outputs": [],
   "source": [
    "# Best models dictionary\n",
    "best_models = {}"
   ]
  },
  {
   "cell_type": "code",
   "execution_count": 41,
   "id": "96278394-c2cf-4980-81fa-7965eb1feaea",
   "metadata": {
    "colab": {
     "base_uri": "https://localhost:8080/"
    },
    "executionInfo": {
     "elapsed": 848241,
     "status": "ok",
     "timestamp": 1755943182475,
     "user": {
      "displayName": "BHABAL OM PRADEEP TU3F2223145",
      "userId": "03180837749453099155"
     },
     "user_tz": -330
    },
    "id": "96278394-c2cf-4980-81fa-7965eb1feaea",
    "outputId": "3c0afab1-ce35-4894-ed87-ddda2c5cc980"
   },
   "outputs": [
    {
     "name": "stdout",
     "output_type": "stream",
     "text": [
      "\n",
      "=== Hyperparameter Tuning with GridSearchCV (10-fold) ===\n",
      "\n",
      "Tuning Random Forest...\n",
      "Best Params for Random Forest: {}\n",
      "Best CV Accuracy: 1.0000\n",
      "\n",
      "Tuning SVM...\n",
      "Best Params for SVM: {'probability': True}\n",
      "Best CV Accuracy: 0.9888\n",
      "\n",
      "Tuning Logistic Regression...\n",
      "Best Params for Logistic Regression: {}\n",
      "Best CV Accuracy: 0.9489\n",
      "\n",
      "Tuning XGBoost...\n",
      "Best Params for XGBoost: {}\n",
      "Best CV Accuracy: 1.0000\n"
     ]
    }
   ],
   "source": [
    "print(\"\\n=== Hyperparameter Tuning with GridSearchCV (10-fold) ===\")\n",
    "\n",
    "for name, model in models.items():  # models dict from Phase I (RF, SVM, LR, XGB)\n",
    "    print(f\"\\nTuning {name}...\")\n",
    "    grid = GridSearchCV(model, param_grids[name], cv=10, scoring=\"accuracy\", n_jobs=-1)\n",
    "    grid.fit(X_train_kbest, y_train)   # Using SelectKBest features (could also try RFE)\n",
    "\n",
    "    print(f\"Best Params for {name}: {grid.best_params_}\")\n",
    "    print(f\"Best CV Accuracy: {grid.best_score_:.4f}\")\n",
    "\n",
    "    best_models[name] = grid.best_estimator_"
   ]
  },
  {
   "cell_type": "markdown",
   "id": "0188b864-50da-4961-bc35-38ade4ce94e8",
   "metadata": {
    "id": "0188b864-50da-4961-bc35-38ade4ce94e8"
   },
   "source": [
    "## Re-run Ensembles with Tuned Models"
   ]
  },
  {
   "cell_type": "code",
   "execution_count": 42,
   "id": "98ee6491-bc43-46e3-8f86-4d322b814839",
   "metadata": {
    "id": "98ee6491-bc43-46e3-8f86-4d322b814839"
   },
   "outputs": [],
   "source": [
    "from sklearn.ensemble import VotingClassifier, StackingClassifier"
   ]
  },
  {
   "cell_type": "markdown",
   "id": "7a8173c2-06bc-4097-b767-ece0b59e7b72",
   "metadata": {
    "id": "7a8173c2-06bc-4097-b767-ece0b59e7b72"
   },
   "source": [
    "### Hard Voting with tuned models"
   ]
  },
  {
   "cell_type": "code",
   "execution_count": 43,
   "id": "5568e483-f982-40c8-8c44-d0786a12eaed",
   "metadata": {
    "id": "5568e483-f982-40c8-8c44-d0786a12eaed"
   },
   "outputs": [],
   "source": [
    "hard_voting_tuned = VotingClassifier(\n",
    "    estimators=[(\"rf\", best_models[\"Random Forest\"]),\n",
    "                (\"svm\", best_models[\"SVM\"]),\n",
    "                (\"lr\", best_models[\"Logistic Regression\"]),\n",
    "                (\"xgb\", best_models[\"XGBoost\"])],\n",
    "    voting=\"hard\"\n",
    ")"
   ]
  },
  {
   "cell_type": "markdown",
   "id": "e5fd0e09-430a-4231-b28e-782d307e4936",
   "metadata": {
    "id": "e5fd0e09-430a-4231-b28e-782d307e4936"
   },
   "source": [
    "### Soft Voting with tuned models"
   ]
  },
  {
   "cell_type": "code",
   "execution_count": 44,
   "id": "bfad7aaa-b340-4465-8abf-ddcdaa9ef1ec",
   "metadata": {
    "id": "bfad7aaa-b340-4465-8abf-ddcdaa9ef1ec"
   },
   "outputs": [],
   "source": [
    "soft_voting_tuned = VotingClassifier(\n",
    "    estimators=[(\"rf\", best_models[\"Random Forest\"]),\n",
    "                (\"svm\", best_models[\"SVM\"]),\n",
    "                (\"lr\", best_models[\"Logistic Regression\"]),\n",
    "                (\"xgb\", best_models[\"XGBoost\"])],\n",
    "    voting=\"soft\"\n",
    ")"
   ]
  },
  {
   "cell_type": "markdown",
   "id": "81bc870d-e03a-400c-8a2b-5cba4ca8c16e",
   "metadata": {
    "id": "81bc870d-e03a-400c-8a2b-5cba4ca8c16e"
   },
   "source": [
    "### Stacking with tuned models"
   ]
  },
  {
   "cell_type": "code",
   "execution_count": 45,
   "id": "39c76412-e922-46c1-baa1-b7cf0e35ef63",
   "metadata": {
    "id": "39c76412-e922-46c1-baa1-b7cf0e35ef63"
   },
   "outputs": [],
   "source": [
    "stacking_tuned = StackingClassifier(\n",
    "    estimators=[(\"rf\", best_models[\"Random Forest\"]),\n",
    "                (\"svm\", best_models[\"SVM\"]),\n",
    "                (\"lr\", best_models[\"Logistic Regression\"]),\n",
    "                (\"xgb\", best_models[\"XGBoost\"])],\n",
    "    final_estimator=LogisticRegression()\n",
    ")"
   ]
  },
  {
   "cell_type": "markdown",
   "id": "4947466b-ed1a-47f3-9e1c-ea918277ea3e",
   "metadata": {
    "id": "4947466b-ed1a-47f3-9e1c-ea918277ea3e"
   },
   "source": [
    "## Cross Validation for Tuned Ensembles"
   ]
  },
  {
   "cell_type": "code",
   "execution_count": 46,
   "id": "74cace41-c0b6-4610-9faf-16b119ffc072",
   "metadata": {
    "colab": {
     "base_uri": "https://localhost:8080/"
    },
    "executionInfo": {
     "elapsed": 173778,
     "status": "ok",
     "timestamp": 1755943378192,
     "user": {
      "displayName": "BHABAL OM PRADEEP TU3F2223145",
      "userId": "03180837749453099155"
     },
     "user_tz": -330
    },
    "id": "74cace41-c0b6-4610-9faf-16b119ffc072",
    "outputId": "db33765c-a694-4dae-c568-fa18925e7cf1"
   },
   "outputs": [
    {
     "name": "stdout",
     "output_type": "stream",
     "text": [
      "\n",
      "=== Cross Validation (10-fold) with Tuned Ensembles ===\n",
      "Hard Voting (Tuned) - Mean CV Accuracy: 0.9895 (+/- 0.0050)\n",
      "Soft Voting (Tuned) - Mean CV Accuracy: 1.0000 (+/- 0.0000)\n",
      "Stacking (Tuned) - Mean CV Accuracy: 1.0000 (+/- 0.0000)\n"
     ]
    }
   ],
   "source": [
    "print(\"\\n=== Cross Validation (10-fold) with Tuned Ensembles ===\")\n",
    "\n",
    "evaluate_cv(hard_voting_tuned, X_train_kbest, y_train, \"Hard Voting\", \"Tuned\")\n",
    "evaluate_cv(soft_voting_tuned, X_train_kbest, y_train, \"Soft Voting\", \"Tuned\")\n",
    "evaluate_cv(stacking_tuned, X_train_kbest, y_train, \"Stacking\", \"Tuned\")"
   ]
  },
  {
   "cell_type": "markdown",
   "id": "d07aa8c0-c3a2-4724-ba36-e921fd7ef521",
   "metadata": {
    "id": "d07aa8c0-c3a2-4724-ba36-e921fd7ef521"
   },
   "source": [
    "# Phase IV: ROC Plotting"
   ]
  },
  {
   "cell_type": "markdown",
   "id": "348b0162-c5d9-443e-9746-e9380cb2a582",
   "metadata": {
    "id": "348b0162-c5d9-443e-9746-e9380cb2a582"
   },
   "source": [
    "## Importing Models"
   ]
  },
  {
   "cell_type": "code",
   "execution_count": 47,
   "id": "66d7dd68-9073-4e9e-9bbd-76ba5bb907cc",
   "metadata": {
    "id": "66d7dd68-9073-4e9e-9bbd-76ba5bb907cc"
   },
   "outputs": [],
   "source": [
    "from sklearn.metrics import roc_curve, auc\n",
    "import matplotlib.pyplot as plt"
   ]
  },
  {
   "cell_type": "markdown",
   "id": "98b2e6d5-51fb-4806-8f71-adbf49038460",
   "metadata": {
    "id": "98b2e6d5-51fb-4806-8f71-adbf49038460"
   },
   "source": [
    "## Phase 1 : Base Models"
   ]
  },
  {
   "cell_type": "code",
   "execution_count": 48,
   "id": "af86dc9c-5097-4f5b-b740-f21f8421b313",
   "metadata": {
    "colab": {
     "base_uri": "https://localhost:8080/",
     "height": 564
    },
    "executionInfo": {
     "elapsed": 3752,
     "status": "ok",
     "timestamp": 1755943381935,
     "user": {
      "displayName": "BHABAL OM PRADEEP TU3F2223145",
      "userId": "03180837749453099155"
     },
     "user_tz": -330
    },
    "id": "af86dc9c-5097-4f5b-b740-f21f8421b313",
    "outputId": "6326d031-1355-40e1-d891-effcde081d56"
   },
   "outputs": [
    {
     "data": {
      "image/png": "[encoded data removed]",
      "text/plain": [
       "<Figure size 800x600 with 1 Axes>"
      ]
     },
     "metadata": {},
     "output_type": "display_data"
    }
   ],
   "source": [
    "plt.figure(figsize=(8,6))\n",
    "\n",
    "for name, model in models.items():\n",
    "    model.fit(X_train, y_train)\n",
    "    y_proba = model.predict_proba(X_test)[:,1]\n",
    "    fpr, tpr, _ = roc_curve(y_test, y_proba)\n",
    "    roc_auc = auc(fpr, tpr)\n",
    "    plt.plot(fpr, tpr, lw=2, label=f'{name} (AUC = {roc_auc:.2f})')\n",
    "\n",
    "plt.plot([0,1],[0,1],'k--')\n",
    "plt.title(\"Phase 1: ROC Curves (Base Models)\")\n",
    "plt.xlabel(\"False Positive Rate\")\n",
    "plt.ylabel(\"True Positive Rate\")\n",
    "plt.legend()\n",
    "plt.show()"
   ]
  },
  {
   "cell_type": "markdown",
   "id": "f675ef1f-21b5-4f29-919a-3f4a665bf55f",
   "metadata": {
    "id": "f675ef1f-21b5-4f29-919a-3f4a665bf55f"
   },
   "source": [
    "## Phase 2 : Features Selection"
   ]
  },
  {
   "cell_type": "code",
   "execution_count": 49,
   "id": "1ed02157-f0ea-4a55-b728-43f5b74b685a",
   "metadata": {
    "colab": {
     "base_uri": "https://localhost:8080/",
     "height": 1000
    },
    "executionInfo": {
     "elapsed": 7604,
     "status": "ok",
     "timestamp": 1755943389540,
     "user": {
      "displayName": "BHABAL OM PRADEEP TU3F2223145",
      "userId": "03180837749453099155"
     },
     "user_tz": -330
    },
    "id": "1ed02157-f0ea-4a55-b728-43f5b74b685a",
    "outputId": "531c520e-577c-4825-d30c-6070dd99a379",
    "scrolled": true
   },
   "outputs": [
    {
     "data": {
      "image/png": "[encoded data removed]",
      "text/plain": [
       "<Figure size 800x600 with 1 Axes>"
      ]
     },
     "metadata": {},
     "output_type": "display_data"
    },
    {
     "data": {
      "image/png": "[encoded data removed]",
      "text/plain": [
       "<Figure size 800x600 with 1 Axes>"
      ]
     },
     "metadata": {},
     "output_type": "display_data"
    }
   ],
   "source": [
    "from sklearn.feature_selection import SelectKBest, f_classif, RFE\n",
    "\n",
    "# --- SelectKBest ---\n",
    "kbest = SelectKBest(score_func=f_classif, k=10)\n",
    "X_new = kbest.fit_transform(X, y)\n",
    "\n",
    "X_train_fs, X_test_fs, y_train_fs, y_test_fs = train_test_split(\n",
    "    X_new, y, test_size=0.2, random_state=42, stratify=y\n",
    ")\n",
    "\n",
    "# ROC Curves with SelectKBest\n",
    "plt.figure(figsize=(8,6))\n",
    "for name, model in models.items():\n",
    "    model.fit(X_train_fs, y_train_fs)\n",
    "    y_proba = model.predict_proba(X_test_fs)[:,1]\n",
    "    fpr, tpr, _ = roc_curve(y_test_fs, y_proba)\n",
    "    roc_auc = auc(fpr, tpr)\n",
    "    plt.plot(fpr, tpr, lw=2, label=f'{name} (AUC = {roc_auc:.2f})')\n",
    "\n",
    "plt.plot([0,1],[0,1],'k--')\n",
    "plt.title(\"Phase 2: ROC Curves with SelectKBest\")\n",
    "plt.xlabel(\"False Positive Rate\")\n",
    "plt.ylabel(\"True Positive Rate\")\n",
    "plt.legend()\n",
    "plt.show()\n",
    "\n",
    "\n",
    "# --- RFE ---\n",
    "rfe_selector = RFE(RandomForestClassifier())\n",
    "X_rfe = rfe_selector.fit_transform(X, y)\n",
    "\n",
    "X_train_rfe, X_test_rfe, y_train_rfe, y_test_rfe = train_test_split(\n",
    "    X_rfe, y, test_size=0.2, random_state=42, stratify=y\n",
    ")\n",
    "\n",
    "# ROC Curves with RFE\n",
    "plt.figure(figsize=(8,6))\n",
    "for name, model in models.items():\n",
    "    model.fit(X_train_rfe, y_train_rfe)\n",
    "    y_proba = model.predict_proba(X_test_rfe)[:,1]\n",
    "    fpr, tpr, _ = roc_curve(y_test_rfe, y_proba)\n",
    "    roc_auc = auc(fpr, tpr)\n",
    "    plt.plot(fpr, tpr, lw=2, label=f'{name} (AUC = {roc_auc:.2f})')\n",
    "\n",
    "plt.plot([0,1],[0,1],'k--')\n",
    "plt.title(\"Phase 2: ROC Curves with RFE\")\n",
    "plt.xlabel(\"False Positive Rate\")\n",
    "plt.ylabel(\"True Positive Rate\")\n",
    "plt.legend()\n",
    "plt.show()\n"
   ]
  },
  {
   "cell_type": "markdown",
   "id": "855275c9-96ee-4364-a5ae-b149e577c473",
   "metadata": {
    "id": "855275c9-96ee-4364-a5ae-b149e577c473"
   },
   "source": [
    "## Phase 3 : Grid Search Hyper parameter"
   ]
  },
  {
   "cell_type": "code",
   "execution_count": 50,
   "id": "8a275ae2-403b-4261-9785-8797ecb81ad1",
   "metadata": {
    "colab": {
     "base_uri": "https://localhost:8080/",
     "height": 564
    },
    "executionInfo": {
     "elapsed": 86476,
     "status": "ok",
     "timestamp": 1755943476033,
     "user": {
      "displayName": "BHABAL OM PRADEEP TU3F2223145",
      "userId": "03180837749453099155"
     },
     "user_tz": -330
    },
    "id": "8a275ae2-403b-4261-9785-8797ecb81ad1",
    "outputId": "feab9f97-9446-47b5-8cfd-0656ead2e6a8"
   },
   "outputs": [
    {
     "data": {
      "image/png": "[encoded data removed]",
      "text/plain": [
       "<Figure size 800x600 with 1 Axes>"
      ]
     },
     "metadata": {},
     "output_type": "display_data"
    }
   ],
   "source": [
    "# Example: Random Forest tuning\n",
    "param_grid_rf = {}\n",
    "grid_rf = GridSearchCV(RandomForestClassifier(random_state=42),\n",
    "                       param_grid_rf, cv=3, scoring='roc_auc')\n",
    "grid_rf.fit(X_train, y_train)\n",
    "\n",
    "# Example: SVM tuning\n",
    "param_grid_svm = {\"probability\": [True]}\n",
    "grid_svm = GridSearchCV(SVC(probability=True, random_state=42),\n",
    "                        param_grid_svm, cv=3, scoring='roc_auc')\n",
    "grid_svm.fit(X_train, y_train)\n",
    "\n",
    "# ROC plot for tuned models\n",
    "plt.figure(figsize=(8,6))\n",
    "\n",
    "for name, model in {\n",
    "    \"Random Forest (Tuned)\": grid_rf.best_estimator_,\n",
    "    \"SVM (Tuned)\": grid_svm.best_estimator_\n",
    "}.items():\n",
    "    y_proba = model.predict_proba(X_test)[:,1]\n",
    "    fpr, tpr, _ = roc_curve(y_test, y_proba)\n",
    "    roc_auc = auc(fpr, tpr)\n",
    "    plt.plot(fpr, tpr, lw=2, label=f'{name} (AUC = {roc_auc:.2f})')\n",
    "\n",
    "plt.plot([0,1],[0,1],'k--')\n",
    "plt.title(\"Phase 3: ROC Curves with Hyperparameter Tuning\")\n",
    "plt.xlabel(\"False Positive Rate\")\n",
    "plt.ylabel(\"True Positive Rate\")\n",
    "plt.legend()\n",
    "plt.show()"
   ]
  }
 ],
 "metadata": {
  "accelerator": "GPU",
  "colab": {
   "gpuType": "T4",
   "provenance": [
    {
     "file_id": "1oTbXIVYq_w7xqIdA15mY135uI2CeVJm3",
     "timestamp": 1755944845960
    }
   ]
  },
  "kernelspec": {
   "display_name": "Python 3 (ipykernel)",
   "language": "python",
   "name": "python3"
  },
  "language_info": {
   "codemirror_mode": {
    "name": "ipython",
    "version": 3
   },
   "file_extension": ".py",
   "mimetype": "text/x-python",
   "name": "python",
   "nbconvert_exporter": "python",
   "pygments_lexer": "ipython3",
   "version": "3.13.5"
  }
 },
 "nbformat": 4,
 "nbformat_minor": 5
}
